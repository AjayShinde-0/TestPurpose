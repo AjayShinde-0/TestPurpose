{
 "cells": [
  {
   "cell_type": "markdown",
   "id": "5cd90a72",
   "metadata": {},
   "source": [
    "## Converting Hexadecimal to Decimal\n",
    "\n",
    "Hexadecimal or \"base 16\" uses all of the numbers 0 - 9, plus a few others to signify higher numbers:\n",
    "\n",
    "A = 10\n",
    "\n",
    "B = 11\n",
    "\n",
    "C = 12\n",
    "\n",
    "D = 13\n",
    "\n",
    "E = 14\n",
    "\n",
    "F = 15\n",
    "\n",
    "Therefore, the number 'D' in hexadecimal would be 13 in decimal.\n",
    "\n",
    "The number '1A' in hexadecimal would be 26 in decimal. Just like we have the \"tens\" place in base 10, hexadecimal has the \"sixteens\" place. So 1A would be 16 + 10 or 26. \n",
    "\n",
    "And just like decimal has the \"hundreds\" place (because 10 * 10 is 100), hexadecimal has the \"256's\" place (because 16 * 16 is 256) So 'ABC' in hexadecimal is (256 * 10) + (16 * 11) + (1 * 12) or 2,748\n"
   ]
  },
  {
   "cell_type": "code",
   "execution_count": null,
   "id": "6726a820-1c5b-4233-a54e-6f94dc2838c1",
   "metadata": {
    "scrolled": true
   },
   "outputs": [],
   "source": [
    "hexNumbers = {\n",
    "    '0': 0, '1': 1, '2': 2, '3': 3, '4': 4, '5': 5, '6': 6, '7': 7, '8': 8, '9': 9,'A': 10, 'B': 11, 'C': 12, 'D': 13, 'E': 14, 'F': 15}\n",
    "\n",
    "def hexToDec(hexNum):  \n",
    "     decValue=0\n",
    "     length = len(hexNum)\n",
    "     for C in hexNum:\n",
    "        if C not in hexNumbers:\n",
    "            return None\n",
    "     expo=0\n",
    "     for C in hexNum[::-1]:\n",
    "         decValue = decValue + hexNumbers[C]*(16**expo)\n",
    "         expo = expo + 1\n",
    "     return decValue\n",
    "print(hexToDec('A'))\n",
    "print(hexToDec('A0'))\n",
    "print(hexToDec('200'))\n",
    "print(hexToDec('100'))"
   ]
  },
  {
   "cell_type": "code",
   "execution_count": null,
   "id": "6871966d",
   "metadata": {},
   "outputs": [],
   "source": []
  },
  {
   "cell_type": "code",
   "execution_count": null,
   "id": "fbac89a5",
   "metadata": {},
   "outputs": [],
   "source": [
    "# 0\n",
    "hexToDec('0')"
   ]
  },
  {
   "cell_type": "code",
   "execution_count": null,
   "id": "e8471b43",
   "metadata": {},
   "outputs": [],
   "source": [
    "# 27\n",
    "hexToDec('1B')"
   ]
  },
  {
   "cell_type": "code",
   "execution_count": null,
   "id": "828e6dce",
   "metadata": {},
   "outputs": [],
   "source": [
    "# 960\n",
    "hexToDec('3C0')"
   ]
  },
  {
   "cell_type": "code",
   "execution_count": null,
   "id": "86051c1a",
   "metadata": {},
   "outputs": [],
   "source": [
    "# None\n",
    "hexToDec('A6G')"
   ]
  },
  {
   "cell_type": "code",
   "execution_count": null,
   "id": "598538ff",
   "metadata": {},
   "outputs": [],
   "source": [
    "# None\n",
    "hexToDec('ZZTOP')"
   ]
  },
  {
   "cell_type": "code",
   "execution_count": null,
   "id": "0051662e",
   "metadata": {},
   "outputs": [],
   "source": []
  },
  {
   "cell_type": "code",
   "execution_count": null,
   "id": "c204da35-e49e-4a6c-92e1-eede654c82d1",
   "metadata": {},
   "outputs": [],
   "source": []
  },
  {
   "cell_type": "code",
   "execution_count": null,
   "id": "a1f9e882-85e2-47e9-9790-8d0fe586abad",
   "metadata": {},
   "outputs": [],
   "source": []
  }
 ],
 "metadata": {
  "kernelspec": {
   "display_name": "Python 3 (ipykernel)",
   "language": "python",
   "name": "python3"
  },
  "language_info": {
   "codemirror_mode": {
    "name": "ipython",
    "version": 3
   },
   "file_extension": ".py",
   "mimetype": "text/x-python",
   "name": "python",
   "nbconvert_exporter": "python",
   "pygments_lexer": "ipython3",
   "version": "3.12.1"
  },
  "vscode": {
   "interpreter": {
    "hash": "949777d72b0d2535278d3dc13498b2535136f6dfe0678499012e853ee9abcab1"
   }
  }
 },
 "nbformat": 4,
 "nbformat_minor": 5
}
